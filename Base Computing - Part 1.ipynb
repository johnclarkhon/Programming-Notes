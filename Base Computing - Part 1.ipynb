{
 "cells": [
  {
   "cell_type": "markdown",
   "id": "31f0cec7",
   "metadata": {},
   "source": [
    "# This is my notebook in ECE 2112!"
   ]
  },
  {
   "cell_type": "markdown",
   "id": "b7e35e78",
   "metadata": {},
   "source": [
    "#### Python Base Types - these are the data types in Python"
   ]
  },
  {
   "cell_type": "code",
   "execution_count": 70,
   "id": "fa1cf68e",
   "metadata": {},
   "outputs": [
    {
     "data": {
      "text/plain": [
       "int"
      ]
     },
     "execution_count": 70,
     "metadata": {},
     "output_type": "execute_result"
    }
   ],
   "source": [
    "type(346)"
   ]
  },
  {
   "cell_type": "code",
   "execution_count": 71,
   "id": "6558b02c",
   "metadata": {},
   "outputs": [
    {
     "data": {
      "text/plain": [
       "float"
      ]
     },
     "execution_count": 71,
     "metadata": {},
     "output_type": "execute_result"
    }
   ],
   "source": [
    "type(45.3)"
   ]
  },
  {
   "cell_type": "code",
   "execution_count": 72,
   "id": "a6895b4b",
   "metadata": {},
   "outputs": [
    {
     "data": {
      "text/plain": [
       "str"
      ]
     },
     "execution_count": 72,
     "metadata": {},
     "output_type": "execute_result"
    }
   ],
   "source": [
    "type('c')"
   ]
  },
  {
   "cell_type": "code",
   "execution_count": 73,
   "id": "9ebbddce",
   "metadata": {},
   "outputs": [
    {
     "data": {
      "text/plain": [
       "bool"
      ]
     },
     "execution_count": 73,
     "metadata": {},
     "output_type": "execute_result"
    }
   ],
   "source": [
    "type(True)"
   ]
  },
  {
   "cell_type": "markdown",
   "id": "309ab2c1",
   "metadata": {},
   "source": [
    "#### Python Type Conversion"
   ]
  },
  {
   "cell_type": "markdown",
   "id": "07cd70f3",
   "metadata": {},
   "source": [
    "How will I convert 34.5 to integer?"
   ]
  },
  {
   "cell_type": "code",
   "execution_count": 74,
   "id": "67167b97",
   "metadata": {},
   "outputs": [
    {
     "data": {
      "text/plain": [
       "34"
      ]
     },
     "execution_count": 74,
     "metadata": {},
     "output_type": "execute_result"
    }
   ],
   "source": [
    "int(34.5)"
   ]
  },
  {
   "cell_type": "markdown",
   "id": "cc7fc369",
   "metadata": {},
   "source": [
    "How will I convert 45 to float?"
   ]
  },
  {
   "cell_type": "code",
   "execution_count": 75,
   "id": "1ea44f5f",
   "metadata": {},
   "outputs": [
    {
     "data": {
      "text/plain": [
       "45.0"
      ]
     },
     "execution_count": 75,
     "metadata": {},
     "output_type": "execute_result"
    }
   ],
   "source": [
    "float(45)"
   ]
  },
  {
   "cell_type": "markdown",
   "id": "921ac322",
   "metadata": {},
   "source": [
    "#### Operations on INTs and FLOATs"
   ]
  },
  {
   "cell_type": "code",
   "execution_count": 76,
   "id": "350554e8",
   "metadata": {},
   "outputs": [
    {
     "data": {
      "text/plain": [
       "163"
      ]
     },
     "execution_count": 76,
     "metadata": {},
     "output_type": "execute_result"
    }
   ],
   "source": [
    "#Addition\n",
    "78+85"
   ]
  },
  {
   "cell_type": "code",
   "execution_count": 77,
   "id": "9d7b7680",
   "metadata": {},
   "outputs": [
    {
     "data": {
      "text/plain": [
       "-7"
      ]
     },
     "execution_count": 77,
     "metadata": {},
     "output_type": "execute_result"
    }
   ],
   "source": [
    "#Subtraction\n",
    "78-85"
   ]
  },
  {
   "cell_type": "code",
   "execution_count": 78,
   "id": "2f3f77f0",
   "metadata": {},
   "outputs": [
    {
     "data": {
      "text/plain": [
       "6630"
      ]
     },
     "execution_count": 78,
     "metadata": {},
     "output_type": "execute_result"
    }
   ],
   "source": [
    "#Multiplication\n",
    "78*85"
   ]
  },
  {
   "cell_type": "code",
   "execution_count": 79,
   "id": "2d7fe5d4",
   "metadata": {},
   "outputs": [
    {
     "data": {
      "text/plain": [
       "67304054671971450739989420306807619836799377985470716666894760506378032361691314076427140597397010589541943423481240405499752742660038542135357687606606894727168"
      ]
     },
     "execution_count": 79,
     "metadata": {},
     "output_type": "execute_result"
    }
   ],
   "source": [
    "#Exponentiation\n",
    "78**85"
   ]
  },
  {
   "cell_type": "code",
   "execution_count": 80,
   "id": "bc5304e2",
   "metadata": {},
   "outputs": [
    {
     "data": {
      "text/plain": [
       "3.3333333333333335"
      ]
     },
     "execution_count": 80,
     "metadata": {},
     "output_type": "execute_result"
    }
   ],
   "source": [
    "#Division (Float) - isang dash lang\n",
    "20/6"
   ]
  },
  {
   "cell_type": "code",
   "execution_count": 81,
   "id": "0f2195a6",
   "metadata": {},
   "outputs": [
    {
     "data": {
      "text/plain": [
       "3"
      ]
     },
     "execution_count": 81,
     "metadata": {},
     "output_type": "execute_result"
    }
   ],
   "source": [
    "#Division (Int) - dalawang slash\n",
    "20//6"
   ]
  },
  {
   "cell_type": "code",
   "execution_count": 82,
   "id": "4689e543",
   "metadata": {},
   "outputs": [
    {
     "data": {
      "text/plain": [
       "2"
      ]
     },
     "execution_count": 82,
     "metadata": {},
     "output_type": "execute_result"
    }
   ],
   "source": [
    "#Modulo - remainder\n",
    "20%6"
   ]
  },
  {
   "cell_type": "markdown",
   "id": "93fce01a",
   "metadata": {},
   "source": [
    "#### Operations on Strings"
   ]
  },
  {
   "cell_type": "markdown",
   "id": "e8607805",
   "metadata": {},
   "source": [
    "Strings - letters, special characters, spaces, digits that are enclosed in a pair of either single or double quotation marks."
   ]
  },
  {
   "cell_type": "code",
   "execution_count": 83,
   "id": "00cd1967",
   "metadata": {},
   "outputs": [],
   "source": [
    "s = \"Advanced Programming\""
   ]
  },
  {
   "cell_type": "code",
   "execution_count": 84,
   "id": "24f15c53",
   "metadata": {},
   "outputs": [
    {
     "data": {
      "text/plain": [
       "'aDVANCED pROGRAMMING'"
      ]
     },
     "execution_count": 84,
     "metadata": {},
     "output_type": "execute_result"
    }
   ],
   "source": [
    "s.swapcase()"
   ]
  },
  {
   "cell_type": "code",
   "execution_count": 85,
   "id": "ab2b543b",
   "metadata": {},
   "outputs": [
    {
     "data": {
      "text/plain": [
       "'v'"
      ]
     },
     "execution_count": 85,
     "metadata": {},
     "output_type": "execute_result"
    }
   ],
   "source": [
    "#Dependent on ASCII codes\n",
    "max(s)"
   ]
  },
  {
   "cell_type": "code",
   "execution_count": 86,
   "id": "6c3f4e88",
   "metadata": {},
   "outputs": [
    {
     "data": {
      "text/plain": [
       "False"
      ]
     },
     "execution_count": 86,
     "metadata": {},
     "output_type": "execute_result"
    }
   ],
   "source": [
    "s.isupper()"
   ]
  },
  {
   "cell_type": "code",
   "execution_count": 87,
   "id": "91e2a933",
   "metadata": {},
   "outputs": [
    {
     "data": {
      "text/plain": [
       "'Advanced Progra**ing'"
      ]
     },
     "execution_count": 87,
     "metadata": {},
     "output_type": "execute_result"
    }
   ],
   "source": [
    "s.replace(\"m\", \"*\")"
   ]
  },
  {
   "cell_type": "code",
   "execution_count": 88,
   "id": "d1cadb40",
   "metadata": {},
   "outputs": [
    {
     "data": {
      "text/plain": [
       "True"
      ]
     },
     "execution_count": 88,
     "metadata": {},
     "output_type": "execute_result"
    }
   ],
   "source": [
    "x = \"gram\" in s\n",
    "x"
   ]
  },
  {
   "cell_type": "code",
   "execution_count": 89,
   "id": "79bc9ec3",
   "metadata": {},
   "outputs": [
    {
     "data": {
      "text/plain": [
       "'An gm'"
      ]
     },
     "execution_count": 89,
     "metadata": {},
     "output_type": "execute_result"
    }
   ],
   "source": [
    "#Slicing - string_name[index ng first element: number of characters: increment]\n",
    "s[0:20:4]"
   ]
  },
  {
   "cell_type": "code",
   "execution_count": 90,
   "id": "2f124945",
   "metadata": {},
   "outputs": [
    {
     "data": {
      "text/plain": [
       "'I love Advanced Programming'"
      ]
     },
     "execution_count": 90,
     "metadata": {},
     "output_type": "execute_result"
    }
   ],
   "source": [
    "txt = \"I love {}\"\n",
    "txt.format(s)"
   ]
  },
  {
   "cell_type": "markdown",
   "id": "02cbf234",
   "metadata": {},
   "source": [
    "### Python Data Structures"
   ]
  },
  {
   "cell_type": "markdown",
   "id": "a8e786c1",
   "metadata": {},
   "source": [
    "Python Data Structures - any objects that holds arbitrary number of objects."
   ]
  },
  {
   "cell_type": "markdown",
   "id": "be8d0e28",
   "metadata": {},
   "source": [
    "##### List - is a collection of data which uses straight brackets [  ] and commas to separate the object."
   ]
  },
  {
   "cell_type": "code",
   "execution_count": 91,
   "id": "55dc5da0",
   "metadata": {},
   "outputs": [],
   "source": [
    "m = [\"apple\", \"banana\", \"cherry\"]"
   ]
  },
  {
   "cell_type": "code",
   "execution_count": 92,
   "id": "f4a9458c",
   "metadata": {},
   "outputs": [
    {
     "name": "stdout",
     "output_type": "stream",
     "text": [
      "banana\n"
     ]
    }
   ],
   "source": [
    "print(m[1])"
   ]
  },
  {
   "cell_type": "code",
   "execution_count": 93,
   "id": "9da0b2fd",
   "metadata": {},
   "outputs": [
    {
     "name": "stdout",
     "output_type": "stream",
     "text": [
      "cherry\n"
     ]
    }
   ],
   "source": [
    "print(m[-1])"
   ]
  },
  {
   "cell_type": "code",
   "execution_count": 94,
   "id": "7bb5e5f1",
   "metadata": {},
   "outputs": [
    {
     "data": {
      "text/plain": [
       "['apple', 'banana', 'cherry', 'mango']"
      ]
     },
     "execution_count": 94,
     "metadata": {},
     "output_type": "execute_result"
    }
   ],
   "source": [
    "m.append(\"mango\")\n",
    "m"
   ]
  },
  {
   "cell_type": "code",
   "execution_count": 95,
   "id": "07eee3e2",
   "metadata": {},
   "outputs": [
    {
     "data": {
      "text/plain": [
       "['apple', 'banana', 'orange', 'cherry', 'mango']"
      ]
     },
     "execution_count": 95,
     "metadata": {},
     "output_type": "execute_result"
    }
   ],
   "source": [
    "m.insert(2,\"orange\")\n",
    "m"
   ]
  },
  {
   "cell_type": "code",
   "execution_count": 96,
   "id": "5108b7ca",
   "metadata": {},
   "outputs": [
    {
     "data": {
      "text/plain": [
       "['apple', 'orange', 'cherry', 'mango']"
      ]
     },
     "execution_count": 96,
     "metadata": {},
     "output_type": "execute_result"
    }
   ],
   "source": [
    "m.remove(\"banana\")\n",
    "m"
   ]
  },
  {
   "cell_type": "code",
   "execution_count": 97,
   "id": "c06077cd",
   "metadata": {},
   "outputs": [
    {
     "data": {
      "text/plain": [
       "['apple', 'cherry', 'mango', 'orange']"
      ]
     },
     "execution_count": 97,
     "metadata": {},
     "output_type": "execute_result"
    }
   ],
   "source": [
    "m.sort()\n",
    "m"
   ]
  },
  {
   "cell_type": "code",
   "execution_count": 98,
   "id": "8073922e",
   "metadata": {},
   "outputs": [
    {
     "data": {
      "text/plain": [
       "['apple', 'mango', 'orange']"
      ]
     },
     "execution_count": 98,
     "metadata": {},
     "output_type": "execute_result"
    }
   ],
   "source": [
    "del m[1]\n",
    "m"
   ]
  },
  {
   "cell_type": "markdown",
   "id": "52758636",
   "metadata": {},
   "source": [
    "##### Dictionary - uses curly braces and colons to signify the keys to their associated values"
   ]
  },
  {
   "cell_type": "code",
   "execution_count": 99,
   "id": "8d73882a",
   "metadata": {},
   "outputs": [
    {
     "data": {
      "text/plain": [
       "{'brand': 'Mitsubishi', 'model': 'Mirage', 'year': 2018}"
      ]
     },
     "execution_count": 99,
     "metadata": {},
     "output_type": "execute_result"
    }
   ],
   "source": [
    "d = {\"brand\":\"Mitsubishi\", \"model\":\"Mirage\", \"year\": 2018}\n",
    "d"
   ]
  },
  {
   "cell_type": "code",
   "execution_count": 100,
   "id": "539039d0",
   "metadata": {},
   "outputs": [
    {
     "data": {
      "text/plain": [
       "'Mirage'"
      ]
     },
     "execution_count": 100,
     "metadata": {},
     "output_type": "execute_result"
    }
   ],
   "source": [
    "d.get(\"model\")"
   ]
  },
  {
   "cell_type": "code",
   "execution_count": 101,
   "id": "d14a1876",
   "metadata": {},
   "outputs": [
    {
     "data": {
      "text/plain": [
       "{'brand': 'Mitsubishi', 'model': 'Mirage', 'year': 2018, 'color': 'pink'}"
      ]
     },
     "execution_count": 101,
     "metadata": {},
     "output_type": "execute_result"
    }
   ],
   "source": [
    "d[\"color\"] = \"pink\"\n",
    "d"
   ]
  },
  {
   "cell_type": "code",
   "execution_count": 102,
   "id": "f269f6c1",
   "metadata": {},
   "outputs": [
    {
     "data": {
      "text/plain": [
       "dict_keys(['brand', 'model', 'year', 'color'])"
      ]
     },
     "execution_count": 102,
     "metadata": {},
     "output_type": "execute_result"
    }
   ],
   "source": [
    "d.keys()"
   ]
  },
  {
   "cell_type": "code",
   "execution_count": 103,
   "id": "f5f18513",
   "metadata": {},
   "outputs": [
    {
     "data": {
      "text/plain": [
       "{'brand': 'Mitsubishi', 'year': 2018, 'color': 'pink'}"
      ]
     },
     "execution_count": 103,
     "metadata": {},
     "output_type": "execute_result"
    }
   ],
   "source": [
    "d.pop(\"model\")\n",
    "d"
   ]
  },
  {
   "cell_type": "code",
   "execution_count": 104,
   "id": "f1b79e8b",
   "metadata": {},
   "outputs": [
    {
     "data": {
      "text/plain": [
       "{'brand': 'Mitsubishi', 'year': 2018}"
      ]
     },
     "execution_count": 104,
     "metadata": {},
     "output_type": "execute_result"
    }
   ],
   "source": [
    "d.popitem()\n",
    "d"
   ]
  },
  {
   "cell_type": "markdown",
   "id": "c5b0aeef",
   "metadata": {},
   "source": [
    "##### Tuple - collection of data which is immutable"
   ]
  },
  {
   "cell_type": "code",
   "execution_count": 105,
   "id": "0d89710b",
   "metadata": {},
   "outputs": [
    {
     "data": {
      "text/plain": [
       "('apple', 'banana', 'cherry', 'mango', 'orange')"
      ]
     },
     "execution_count": 105,
     "metadata": {},
     "output_type": "execute_result"
    }
   ],
   "source": [
    "t = \"apple\", \"banana\", \"cherry\", \"mango\", \"orange\"\n",
    "t"
   ]
  },
  {
   "cell_type": "code",
   "execution_count": 106,
   "id": "c0794f53",
   "metadata": {},
   "outputs": [
    {
     "name": "stdout",
     "output_type": "stream",
     "text": [
      "banana\n"
     ]
    }
   ],
   "source": [
    "print(t[1])"
   ]
  },
  {
   "cell_type": "code",
   "execution_count": 107,
   "id": "497c3238",
   "metadata": {},
   "outputs": [
    {
     "name": "stdout",
     "output_type": "stream",
     "text": [
      "mango\n"
     ]
    }
   ],
   "source": [
    "print(t[-2])"
   ]
  },
  {
   "cell_type": "code",
   "execution_count": 108,
   "id": "bfc954c6",
   "metadata": {},
   "outputs": [
    {
     "name": "stdout",
     "output_type": "stream",
     "text": [
      "('cherry',)\n"
     ]
    }
   ],
   "source": [
    "print(t[2:3])"
   ]
  },
  {
   "cell_type": "code",
   "execution_count": 109,
   "id": "befac93a",
   "metadata": {},
   "outputs": [
    {
     "ename": "TypeError",
     "evalue": "'tuple' object does not support item assignment",
     "output_type": "error",
     "traceback": [
      "\u001b[1;31m---------------------------------------------------------------------------\u001b[0m",
      "\u001b[1;31mTypeError\u001b[0m                                 Traceback (most recent call last)",
      "Cell \u001b[1;32mIn[109], line 1\u001b[0m\n\u001b[1;32m----> 1\u001b[0m t[\u001b[38;5;241m-\u001b[39m\u001b[38;5;241m2\u001b[39m] \u001b[38;5;241m=\u001b[39m \u001b[38;5;124m\"\u001b[39m\u001b[38;5;124morange\u001b[39m\u001b[38;5;124m\"\u001b[39m\n",
      "\u001b[1;31mTypeError\u001b[0m: 'tuple' object does not support item assignment"
     ]
    }
   ],
   "source": [
    "t[-2] = \"orange\""
   ]
  },
  {
   "cell_type": "code",
   "execution_count": 110,
   "id": "f22e5fb9",
   "metadata": {},
   "outputs": [
    {
     "data": {
      "text/plain": [
       "5"
      ]
     },
     "execution_count": 110,
     "metadata": {},
     "output_type": "execute_result"
    }
   ],
   "source": [
    "len(t)"
   ]
  },
  {
   "cell_type": "code",
   "execution_count": 111,
   "id": "1c9136bd",
   "metadata": {},
   "outputs": [
    {
     "ename": "NameError",
     "evalue": "name 't' is not defined",
     "output_type": "error",
     "traceback": [
      "\u001b[1;31m---------------------------------------------------------------------------\u001b[0m",
      "\u001b[1;31mNameError\u001b[0m                                 Traceback (most recent call last)",
      "Cell \u001b[1;32mIn[111], line 2\u001b[0m\n\u001b[0;32m      1\u001b[0m \u001b[38;5;28;01mdel\u001b[39;00m t\n\u001b[1;32m----> 2\u001b[0m t\n",
      "\u001b[1;31mNameError\u001b[0m: name 't' is not defined"
     ]
    }
   ],
   "source": [
    "del t\n",
    "t"
   ]
  },
  {
   "cell_type": "markdown",
   "id": "50584ad4",
   "metadata": {},
   "source": [
    "##### Set - collection of unique data elements which is unordered"
   ]
  },
  {
   "cell_type": "code",
   "execution_count": 112,
   "id": "046e7c18",
   "metadata": {},
   "outputs": [
    {
     "data": {
      "text/plain": [
       "{'apple', 'banana', 'cherry'}"
      ]
     },
     "execution_count": 112,
     "metadata": {},
     "output_type": "execute_result"
    }
   ],
   "source": [
    "s = {\"apple\", \"banana\", \"cherry\", \"cherry\"}\n",
    "s"
   ]
  },
  {
   "cell_type": "code",
   "execution_count": 113,
   "id": "28bf5c1c",
   "metadata": {},
   "outputs": [
    {
     "data": {
      "text/plain": [
       "{'apple', 'banana', 'cherry', 'orange'}"
      ]
     },
     "execution_count": 113,
     "metadata": {},
     "output_type": "execute_result"
    }
   ],
   "source": [
    "s.add(\"orange\")\n",
    "s"
   ]
  },
  {
   "cell_type": "code",
   "execution_count": 114,
   "id": "9808ad01",
   "metadata": {},
   "outputs": [
    {
     "data": {
      "text/plain": [
       "{'apple', 'banana', 'cherry', 'grapes', 'mango', 'orange'}"
      ]
     },
     "execution_count": 114,
     "metadata": {},
     "output_type": "execute_result"
    }
   ],
   "source": [
    "s.update([\"mango\", \"grapes\"])\n",
    "s"
   ]
  },
  {
   "cell_type": "code",
   "execution_count": 115,
   "id": "8bb918e8",
   "metadata": {},
   "outputs": [
    {
     "data": {
      "text/plain": [
       "{'apple', 'cherry', 'grapes', 'mango', 'orange'}"
      ]
     },
     "execution_count": 115,
     "metadata": {},
     "output_type": "execute_result"
    }
   ],
   "source": [
    "s.remove(\"banana\")\n",
    "s"
   ]
  },
  {
   "cell_type": "code",
   "execution_count": 116,
   "id": "d22cf89f",
   "metadata": {},
   "outputs": [
    {
     "data": {
      "text/plain": [
       "{'apple', 'cherry', 'grapes', 'mango'}"
      ]
     },
     "execution_count": 116,
     "metadata": {},
     "output_type": "execute_result"
    }
   ],
   "source": [
    "s.pop()\n",
    "s"
   ]
  },
  {
   "cell_type": "markdown",
   "id": "ad947bbc",
   "metadata": {},
   "source": [
    "### Input and Output in Python"
   ]
  },
  {
   "cell_type": "markdown",
   "id": "5c36f76d",
   "metadata": {},
   "source": [
    "#### Input (Strings)\n",
    "\n",
    "Syntax: text = input(\"\")"
   ]
  },
  {
   "cell_type": "code",
   "execution_count": 118,
   "id": "3883624c",
   "metadata": {},
   "outputs": [
    {
     "name": "stdin",
     "output_type": "stream",
     "text": [
      "Enter your name:  3\n"
     ]
    }
   ],
   "source": [
    "p = input(\"Enter your name: \")"
   ]
  },
  {
   "cell_type": "markdown",
   "id": "dbab0cf2",
   "metadata": {},
   "source": [
    "#### Input (Int or Float)\n",
    "\n",
    "Syntax: \n",
    "n = int(input(\"\"))\n",
    "n = float(input(\"\"))"
   ]
  },
  {
   "cell_type": "code",
   "execution_count": 119,
   "id": "cdb7a43b",
   "metadata": {},
   "outputs": [
    {
     "name": "stdin",
     "output_type": "stream",
     "text": [
      "Enter a number:  4\n"
     ]
    }
   ],
   "source": [
    "n = int(input(\"Enter a number: \"))"
   ]
  },
  {
   "cell_type": "code",
   "execution_count": 120,
   "id": "9646451a",
   "metadata": {},
   "outputs": [
    {
     "name": "stdin",
     "output_type": "stream",
     "text": [
      "Enter a number:  5\n"
     ]
    }
   ],
   "source": [
    "n = float(input(\"Enter a number: \"))"
   ]
  },
  {
   "cell_type": "markdown",
   "id": "08e8fd79",
   "metadata": {},
   "source": [
    "#### Output\n",
    "\n",
    "Syntax: print()"
   ]
  },
  {
   "cell_type": "code",
   "execution_count": 121,
   "id": "8bee98c0",
   "metadata": {},
   "outputs": [
    {
     "name": "stdout",
     "output_type": "stream",
     "text": [
      "Hello World\n"
     ]
    }
   ],
   "source": [
    "print(\"Hello World\")"
   ]
  },
  {
   "cell_type": "code",
   "execution_count": 122,
   "id": "aa1d61db",
   "metadata": {},
   "outputs": [
    {
     "name": "stdout",
     "output_type": "stream",
     "text": [
      "5.0\n"
     ]
    }
   ],
   "source": [
    "print(n)"
   ]
  },
  {
   "cell_type": "code",
   "execution_count": 123,
   "id": "8bf70b2a",
   "metadata": {},
   "outputs": [
    {
     "name": "stdout",
     "output_type": "stream",
     "text": [
      "My favorite number is 5.0 and I used it earlier\n"
     ]
    }
   ],
   "source": [
    "print(\"My favorite number is\", n, \"and I used it earlier\")"
   ]
  }
 ],
 "metadata": {
  "kernelspec": {
   "display_name": "Python 3 (ipykernel)",
   "language": "python",
   "name": "python3"
  },
  "language_info": {
   "codemirror_mode": {
    "name": "ipython",
    "version": 3
   },
   "file_extension": ".py",
   "mimetype": "text/x-python",
   "name": "python",
   "nbconvert_exporter": "python",
   "pygments_lexer": "ipython3",
   "version": "3.12.4"
  }
 },
 "nbformat": 4,
 "nbformat_minor": 5
}
